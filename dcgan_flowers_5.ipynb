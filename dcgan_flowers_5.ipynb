{
 "cells": [
  {
   "cell_type": "markdown",
   "metadata": {
    "colab_type": "text",
    "id": "oSzDBnupFBJg"
   },
   "source": [
    "#Deep Convolutional Generative Adaptative Network DC-GAN"
   ]
  },
  {
   "cell_type": "markdown",
   "metadata": {
    "colab_type": "text",
    "id": "s2FoRCnXFNk0"
   },
   "source": [
    "Some information about the project here"
   ]
  },
  {
   "cell_type": "markdown",
   "metadata": {
    "colab_type": "text",
    "id": "jFDtb-HBFSHD"
   },
   "source": [
    "#Configuration"
   ]
  },
  {
   "cell_type": "code",
   "execution_count": null,
   "metadata": {
    "colab": {},
    "colab_type": "code",
    "id": "6aLDb5yKuZmS"
   },
   "outputs": [],
   "source": [
    "IMAGE_SIZE = 256\n",
    "EPOCHS = 50\n",
    "NOISE_SIZE = 100\n",
    "NUM_NEW_IMAGES = 1000\n",
    "DATASET_FOLDER = 'only_flowers/'\n",
    "\n",
    "BATCH_SIZE = 128 # Paper\n",
    "#BATCH_SIZE = 64 # Simpsons\n",
    "#BATCH_SIZE = 256 # TensowFlow tutorial\n",
    "\n",
    "#LR_D = 0.001 # Default\n",
    "#LR_D = 0.00004 # Simpsons\n",
    "#LR_D = 0.00001 # TensoFlow tutorial\n",
    "LR_D = 0.0002 # Paper\n",
    "\n",
    "#LR_G = 0.001 # Default\n",
    "#LR_G = 0.0004 # Simpsons\n",
    "#LR_G = 0.0001 # TensorFlow tutorial\n",
    "LR_G = 0.0002 # Paper\n",
    "\n",
    "BETA1 = 0.9 # Default\n",
    "#BETA1 = 0.5 # Simpsons and Paper\n",
    "\n",
    "#EPSILON = 0.00005 # Simpsons\n",
    "EPSILON = 0.001 # Default\n",
    "\n",
    "#LEAK_RELU_APLPHA = 0.3 # Default\n",
    "LEAK_RELU_APLPHA = 0.2 # Paper\n",
    "\n",
    "KERNEL_INITIALIZER='glorot_uniform' # Default\n",
    "#KERNEL_INITIALIZER='zeros' # Paper\n",
    "#import tensorflow as tf\n",
    "#from tensorflow.keras import initializers\n",
    "#import tf.keras.initializers.TruncatedNormal\n",
    "#KERNEL_INITIALIZER=initializers.TruncatedNormal(stddev=0.02) # Simpsons\n"
   ]
  },
  {
   "cell_type": "markdown",
   "metadata": {
    "colab_type": "text",
    "id": "CbtunS4kFlHo"
   },
   "source": [
    "#Imports"
   ]
  },
  {
   "cell_type": "code",
   "execution_count": null,
   "metadata": {
    "colab": {
     "base_uri": "https://localhost:8080/",
     "height": 35
    },
    "colab_type": "code",
    "id": "U0HxU1J2MSNy",
    "outputId": "c5a329ab-3f50-4623-deaa-6ec6ebdb8c20"
   },
   "outputs": [],
   "source": [
    "#!pip install imageio\n",
    "#!pip install --user -U tensorflow==2.2.0rc2 tensorflow-gpu==2.2.0rc2\n",
    "import tensorflow as tf\n",
    "print(tf.__version__)"
   ]
  },
  {
   "cell_type": "code",
   "execution_count": null,
   "metadata": {
    "colab": {
     "base_uri": "https://localhost:8080/",
     "height": 52
    },
    "colab_type": "code",
    "id": "QT5qOIletKeB",
    "outputId": "d829ffbb-0ef6-496d-c434-01489c16b5dc"
   },
   "outputs": [],
   "source": [
    "import tensorflow as tf\n",
    "print(\"Num GPUs Available: \", len(tf.config.experimental.list_physical_devices('GPU')))\n",
    "tf.test.is_gpu_available(\n",
    "    cuda_only=False, min_cuda_compute_capability=None\n",
    ")"
   ]
  },
  {
   "cell_type": "code",
   "execution_count": null,
   "metadata": {
    "colab": {},
    "colab_type": "code",
    "id": "hpQpeL4ZFvt3"
   },
   "outputs": [],
   "source": [
    "from datetime import datetime\n",
    "import os\n",
    "from glob import glob\n",
    "from IPython import display\n",
    "import imageio\n",
    "import matplotlib.pyplot as plt\n",
    "%matplotlib inline\n",
    "import numpy as np\n",
    "import PIL\n",
    "from PIL import Image\n",
    "import pytz\n",
    "tz_NY = pytz.timezone('America/New_York') \n",
    "import random\n",
    "from scipy import ndarray\n",
    "import skimage as sk\n",
    "from skimage import io\n",
    "from skimage import util\n",
    "from skimage import transform\n",
    "import tensorflow as tf\n",
    "from tensorflow.keras import layers\n",
    "import time"
   ]
  },
  {
   "cell_type": "markdown",
   "metadata": {
    "colab_type": "text",
    "id": "D9EcQFsUKzeM"
   },
   "source": [
    "#Image presentation functions"
   ]
  },
  {
   "cell_type": "code",
   "execution_count": null,
   "metadata": {
    "colab": {},
    "colab_type": "code",
    "id": "fGfK0sPio0Bq"
   },
   "outputs": [],
   "source": [
    "def show_samples(sample_images):\n",
    "    \n",
    "    print(\"len(sample_images): \", len(sample_images))\n",
    "    print(\"len(sample_images): \", sample_images[0].shape)\n",
    "    \n",
    "    figure, axes = plt.subplots(1, len(sample_images), figsize = (50, 50))\n",
    "\n",
    "    print(\"figure: \", figure)\n",
    "    print(\"axes: \", axes)\n",
    "\n",
    "    for index, axis in enumerate(axes):\n",
    "        axis.axis('off')\n",
    "        image_array = sample_images[index]\n",
    "        axis.imshow(image_array)\n",
    "        \n",
    "    plt.show()\n",
    "    plt.close()"
   ]
  },
  {
   "cell_type": "code",
   "execution_count": null,
   "metadata": {
    "colab": {},
    "colab_type": "code",
    "id": "uT0kRsVZyG52"
   },
   "outputs": [],
   "source": [
    "def show_image_custom(input_image):\n",
    "    fig = plt.figure(figsize=(4,4))\n",
    "\n",
    "    plt.imshow(input_image)\n",
    "\n",
    "    plt.axis('off')\n",
    "\n",
    "    plt.show()"
   ]
  },
  {
   "cell_type": "code",
   "execution_count": null,
   "metadata": {
    "colab": {},
    "colab_type": "code",
    "id": "YgwgHAwKbA7g"
   },
   "outputs": [],
   "source": [
    "def show_samples2(sample_images):\n",
    "    figure, axes = plt.subplots(1, len(sample_images), figsize = (50, 50))\n",
    "\n",
    "    for index, axis in enumerate(axes):\n",
    "        axis.axis('off')\n",
    "        image_array = sample_images[index]\n",
    "        image_array = image_array.numpy() * 127.5 + 127.5\n",
    "        axis.imshow(image_array.astype(np.uint8))\n",
    "\n",
    "    plt.show()\n",
    "    plt.close()"
   ]
  },
  {
   "cell_type": "markdown",
   "metadata": {
    "colab_type": "text",
    "id": "NUX6W7M0n0Wg"
   },
   "source": [
    "# Data Preparation"
   ]
  },
  {
   "cell_type": "markdown",
   "metadata": {
    "colab_type": "text",
    "id": "e1_Y75QXJS6h"
   },
   "source": [
    "##Fetch the  Dataset"
   ]
  },
  {
   "cell_type": "code",
   "execution_count": null,
   "metadata": {
    "colab": {
     "base_uri": "https://localhost:8080/",
     "height": 384
    },
    "colab_type": "code",
    "id": "4F5LndjimPia",
    "outputId": "5a255133-bd19-4375-d09e-472ddc041c80"
   },
   "outputs": [],
   "source": [
    "GET_DATASET = True\n",
    "if GET_DATASET:\n",
    "    !rm -rf only_flowers/\n",
    "    print('Fechting the Image Data Set')\n",
    "    !wget https://github.com/ravasconcelos/flowers_dcgan/raw/master/only_flowers.zip\n",
    "    print('Unzipping the file')\n",
    "    ZIP_FILE = 'only_flowers.zip'\n",
    "    !unzip -q -o $ZIP_FILE\n",
    "    print('Flower images are available')\n",
    "#Check if there are some files in the folder\n",
    "num_of_images = len(os.listdir(DATASET_FOLDER))\n",
    "print('Number of images: ', num_of_images) \n",
    "assert num_of_images == 249 "
   ]
  },
  {
   "cell_type": "markdown",
   "metadata": {
    "colab_type": "text",
    "id": "40CxidI1IBpm"
   },
   "source": [
    "# Data Augmentation"
   ]
  },
  {
   "cell_type": "markdown",
   "metadata": {
    "colab_type": "text",
    "id": "qYP62OBlIL9q"
   },
   "source": [
    "Image transformation methods"
   ]
  },
  {
   "cell_type": "code",
   "execution_count": null,
   "metadata": {
    "colab": {},
    "colab_type": "code",
    "id": "OjJtLwKqwsUU"
   },
   "outputs": [],
   "source": [
    "def random_rotation(image_array: ndarray):\n",
    "    # pick a random degree of rotation between 20% on the left and 20% on the right\n",
    "    random_degree = random.uniform(-20, 20)\n",
    "    return sk.transform.rotate(image_array, random_degree)\n",
    "\n",
    "def horizontal_flip(image_array: ndarray):\n",
    "    # horizontal flip doesn't need skimage, it's easy as flipping the image array of pixels !\n",
    "    return image_array[:, ::-1]\n",
    "\n",
    "def vertical_flip(image_array: ndarray):\n",
    "    return image_array[::-1, :]\n",
    "\n",
    "def vertical_and_horizontal_flip(image_array: ndarray):\n",
    "    h_flip_image = vertical_flip(image_array)\n",
    "    return horizontal_flip(h_flip_image)\n",
    "\n",
    "def rescale(image_array: ndarray):\n",
    "    rescaled_image = sk.transform.rescale(image_array, 0.5, anti_aliasing=False)\n",
    "    return sk.transform.resize(rescaled_image, (IMAGE_SIZE, IMAGE_SIZE))\n",
    "\n",
    "def TF_crop_pad(x, n_pixels=20, pad_mode='edge'):\n",
    "    \"\"\"Pad image by n_pixels on each size, then take random crop of same\n",
    "    original size.\n",
    "    \"\"\"\n",
    "    assert len(x.shape) == 3\n",
    "    h, w, nc = x.shape\n",
    "\n",
    "    # First pad image by n_pixels on each side\n",
    "    padded = sk.util.pad(x, [(n_pixels, n_pixels) for _ in range(2)] + [(0,0)],\n",
    "        mode=pad_mode)\n",
    "\n",
    "    # Then take a random crop of the original size\n",
    "    crops = [(c, 2*n_pixels-c) for c in np.random.randint(0, 2*n_pixels+1, [2])]\n",
    "    # For channel dimension don't do any cropping\n",
    "    crops += [(0,0)]\n",
    "    return sk.transform.resize(sk.util.crop(padded, crops, copy=True), (IMAGE_SIZE, IMAGE_SIZE))     \n",
    "\n"
   ]
  },
  {
   "cell_type": "markdown",
   "metadata": {
    "colab_type": "text",
    "id": "PNnixXQxIVQE"
   },
   "source": [
    "Create the new images doing random transformation on random images"
   ]
  },
  {
   "cell_type": "code",
   "execution_count": null,
   "metadata": {
    "colab": {
     "base_uri": "https://localhost:8080/",
     "height": 1000
    },
    "colab_type": "code",
    "id": "GbdAWEZKwsRn",
    "outputId": "17518900-42cb-40f9-a620-9ff0fc1682ad"
   },
   "outputs": [],
   "source": [
    "# dictionary of the transformations we defined earlier\n",
    "available_transformations = {\n",
    "    'rotate': random_rotation,\n",
    "    'vertical_flip': vertical_flip,\n",
    "    'horizontal_flip': horizontal_flip,\n",
    "    'vertical_and_horizontal_flip': vertical_and_horizontal_flip,\n",
    "    'TF_crop_pad': TF_crop_pad\n",
    "}\n",
    "\n",
    "folder_path = DATASET_FOLDER\n",
    "\n",
    "# find all files paths from the folder\n",
    "images = [os.path.join(folder_path, f) for f in os.listdir(folder_path) if os.path.isfile(os.path.join(folder_path, f))]\n",
    "\n",
    "num_generated_files = 0\n",
    "while num_generated_files <= NUM_NEW_IMAGES:\n",
    "    # random image from the folder\n",
    "    image_path = random.choice(images)\n",
    "    # read image as an two dimensional array of pixels\n",
    "    image_to_transform = sk.io.imread(image_path)\n",
    "    # random num of transformation to apply\n",
    "    num_transformations_to_apply = random.randint(1, len(available_transformations))\n",
    "\n",
    "    num_transformations = 0\n",
    "    transformed_image = None\n",
    "    while num_transformations <= num_transformations_to_apply:\n",
    "        # random transformation to apply for a single image\n",
    "        key = random.choice(list(available_transformations))\n",
    "        transformed_image = available_transformations[key](image_to_transform)\n",
    "        num_transformations += 1\n",
    "\n",
    "        new_file_path = '%s/augmented_image_%s.jpg' % (folder_path, num_generated_files)\n",
    "\n",
    "        # write image to the disk\n",
    "        #io.imsave(new_file_path, transformed_image.astype(np.uint8))\n",
    "        io.imsave(new_file_path, transformed_image)\n",
    "        num_generated_files += 1\n"
   ]
  },
  {
   "cell_type": "code",
   "execution_count": null,
   "metadata": {
    "colab": {},
    "colab_type": "code",
    "id": "ukxWQA_CmQhP"
   },
   "outputs": [],
   "source": []
  },
  {
   "cell_type": "markdown",
   "metadata": {
    "colab_type": "text",
    "id": "iYn4MdZnKCey"
   },
   "source": [
    "### Load and prepare the dataset\n",
    "\n",
    "You will use the MNIST dataset to train the generator and the discriminator. The generator will generate handwritten digits resembling the MNIST data."
   ]
  },
  {
   "cell_type": "code",
   "execution_count": null,
   "metadata": {
    "colab": {
     "base_uri": "https://localhost:8080/",
     "height": 324
    },
    "colab_type": "code",
    "id": "2nWJfwVmmQjL",
    "outputId": "4b9d86e4-44d8-456a-eea8-aadfcccea258"
   },
   "outputs": [],
   "source": [
    "input_images = np.asarray([np.asarray(\n",
    "    Image.open(file)\n",
    "    .resize((IMAGE_SIZE, IMAGE_SIZE))\n",
    "    ) for file in glob(DATASET_FOLDER+'*')])\n",
    "print (\"Input: \" + str(input_images.shape))\n",
    "\n",
    "np.random.shuffle(input_images)\n",
    "\n",
    "sample_images = input_images[:5]\n",
    "show_samples(sample_images)\n"
   ]
  },
  {
   "cell_type": "code",
   "execution_count": null,
   "metadata": {
    "colab": {
     "base_uri": "https://localhost:8080/",
     "height": 35
    },
    "colab_type": "code",
    "id": "ZYUjcQhGsXmo",
    "outputId": "40c92703-affe-44dc-e82a-4f63d1f3a6cc"
   },
   "outputs": [],
   "source": [
    "input_images.shape\n",
    "len(input_images)"
   ]
  },
  {
   "cell_type": "code",
   "execution_count": null,
   "metadata": {
    "colab": {
     "base_uri": "https://localhost:8080/",
     "height": 248
    },
    "colab_type": "code",
    "id": "hgYH0lzSt6jj",
    "outputId": "c8de6057-c7e5-4485-e375-4c2b63885033"
   },
   "outputs": [],
   "source": [
    "show_image_custom(input_images[0])"
   ]
  },
  {
   "cell_type": "code",
   "execution_count": null,
   "metadata": {
    "colab": {
     "base_uri": "https://localhost:8080/",
     "height": 248
    },
    "colab_type": "code",
    "id": "81_8Pm3Wt65I",
    "outputId": "6d1455f8-a1e7-4e3e-eff5-c46b86510d90"
   },
   "outputs": [],
   "source": [
    "show_image_custom(vertical_flip(input_images[0]))"
   ]
  },
  {
   "cell_type": "code",
   "execution_count": null,
   "metadata": {
    "colab": {
     "base_uri": "https://localhost:8080/",
     "height": 248
    },
    "colab_type": "code",
    "id": "Hz7-J9Vpt7R4",
    "outputId": "fefcc9c2-86af-44b6-ef6d-3510d8576b8c"
   },
   "outputs": [],
   "source": [
    "show_image_custom(horizontal_flip(input_images[0]))"
   ]
  },
  {
   "cell_type": "code",
   "execution_count": null,
   "metadata": {
    "colab": {
     "base_uri": "https://localhost:8080/",
     "height": 248
    },
    "colab_type": "code",
    "id": "57cJF8kiuZXV",
    "outputId": "b44c0604-283b-4bb6-998d-22fc950141d2"
   },
   "outputs": [],
   "source": [
    "show_image_custom(random_rotation(input_images[0]))"
   ]
  },
  {
   "cell_type": "code",
   "execution_count": null,
   "metadata": {
    "colab": {
     "base_uri": "https://localhost:8080/",
     "height": 248
    },
    "colab_type": "code",
    "id": "NdISbuOauchY",
    "outputId": "024423a5-c9d4-4e6f-d9ab-7495ffe598d4"
   },
   "outputs": [],
   "source": [
    "show_image_custom(vertical_and_horizontal_flip(input_images[0]))"
   ]
  },
  {
   "cell_type": "code",
   "execution_count": null,
   "metadata": {
    "colab": {},
    "colab_type": "code",
    "id": "o0H5pjlrrkZS"
   },
   "outputs": [],
   "source": [
    "train_images = input_images.reshape(input_images.shape[0], 256, 256, 3).astype('float32')\n",
    "train_images = (train_images - 127.5) / 127.5 "
   ]
  },
  {
   "cell_type": "code",
   "execution_count": null,
   "metadata": {
    "colab": {
     "base_uri": "https://localhost:8080/",
     "height": 248
    },
    "colab_type": "code",
    "id": "0rKUBgK9riO6",
    "outputId": "e842771f-632d-4582-e325-7e15df2b8c4d"
   },
   "outputs": [],
   "source": [
    "train_images2 = (train_images * 127.5) + 127.5\n",
    "\n",
    "fig = plt.figure(figsize=(4,4))\n",
    "\n",
    "plt.imshow(train_images2[0].astype(np.uint8) )\n",
    "\n",
    "plt.axis('off')\n",
    "\n",
    "plt.show()\n"
   ]
  },
  {
   "cell_type": "code",
   "execution_count": null,
   "metadata": {
    "colab": {},
    "colab_type": "code",
    "id": "OprTtWULwiiQ"
   },
   "outputs": [],
   "source": []
  },
  {
   "cell_type": "code",
   "execution_count": null,
   "metadata": {
    "colab": {},
    "colab_type": "code",
    "id": "S4PIDhoDLbsZ"
   },
   "outputs": [],
   "source": [
    "BUFFER_SIZE = input_images.shape[0]"
   ]
  },
  {
   "cell_type": "code",
   "execution_count": null,
   "metadata": {
    "colab": {},
    "colab_type": "code",
    "id": "-yKCCQOoJ7cn"
   },
   "outputs": [],
   "source": [
    "# Batch and shuffle the data\n",
    "train_dataset = tf.data.Dataset.from_tensor_slices(train_images).shuffle(BUFFER_SIZE).batch(BATCH_SIZE)"
   ]
  },
  {
   "cell_type": "markdown",
   "metadata": {
    "colab_type": "text",
    "id": "THY-sZMiQ4UV"
   },
   "source": [
    "## Create the models\n",
    "\n",
    "Both the generator and discriminator are defined using the [Keras Sequential API](https://www.tensorflow.org/guide/keras#sequential_model)."
   ]
  },
  {
   "cell_type": "markdown",
   "metadata": {
    "colab_type": "text",
    "id": "-tEyxE-GMC48"
   },
   "source": [
    "### The Generator\n",
    "\n",
    "The generator uses `tf.keras.layers.Conv2DTranspose` (upsampling) layers to produce an image from a seed (random noise). Start with a `Dense` layer that takes this seed as input, then upsample several times until you reach the desired image size of 256x256x3. Notice the `tf.keras.layers.LeakyReLU` activation for each layer, except the output layer which uses tanh."
   ]
  },
  {
   "cell_type": "code",
   "execution_count": null,
   "metadata": {
    "colab": {},
    "colab_type": "code",
    "id": "6bpTcDqoLWjY"
   },
   "outputs": [],
   "source": [
    "def make_generator_model():\n",
    "    model = tf.keras.Sequential()\n",
    "    model.add(layers.Dense(16*16*1024, use_bias=False, input_shape=(NOISE_SIZE,)))\n",
    "    model.add(layers.BatchNormalization(epsilon=EPSILON))\n",
    "    model.add(layers.ReLU())\n",
    "\n",
    "    model.add(layers.Reshape((16, 16, 1024)))\n",
    "    assert model.output_shape == (None, 16, 16, 1024) # Note: None is the batch size\n",
    "\n",
    "    model.add(layers.Conv2DTranspose(512, (5, 5), strides=(2, 2), padding='same', use_bias=False,\n",
    "                                    kernel_initializer=KERNEL_INITIALIZER))\n",
    "    assert model.output_shape == (None, 32, 32, 512)\n",
    "    model.add(layers.BatchNormalization(epsilon=EPSILON))\n",
    "    model.add(layers.ReLU())\n",
    "\n",
    "    model.add(layers.Conv2DTranspose(256, (5, 5), strides=(2, 2), padding='same', use_bias=False,\n",
    "                                    kernel_initializer=KERNEL_INITIALIZER))\n",
    "    assert model.output_shape == (None, 64, 64, 256)\n",
    "    model.add(layers.BatchNormalization(epsilon=EPSILON))\n",
    "    model.add(layers.ReLU())\n",
    "\n",
    "    model.add(layers.Conv2DTranspose(128, (5, 5), strides=(2, 2), padding='same', use_bias=False,\n",
    "                                    kernel_initializer=KERNEL_INITIALIZER))\n",
    "    assert model.output_shape == (None, 128, 128, 128)\n",
    "    model.add(layers.BatchNormalization(epsilon=EPSILON))\n",
    "    model.add(layers.ReLU())\n",
    "\n",
    "    model.add(layers.Conv2DTranspose(3, (5, 5), strides=(2, 2), padding='same', use_bias=False, activation='tanh',\n",
    "                                    kernel_initializer=KERNEL_INITIALIZER))\n",
    "    assert model.output_shape == (None, 256, 256, 3)\n",
    "\n",
    "    return model"
   ]
  },
  {
   "cell_type": "markdown",
   "metadata": {
    "colab_type": "text",
    "id": "GyWgG09LCSJl"
   },
   "source": [
    "Use the (as yet untrained) generator to create an image."
   ]
  },
  {
   "cell_type": "code",
   "execution_count": null,
   "metadata": {
    "colab": {
     "base_uri": "https://localhost:8080/",
     "height": 287
    },
    "colab_type": "code",
    "id": "gl7jcC7TdPTG",
    "outputId": "2fcb4eed-1ec3-4113-de97-9fcb3ae66ee5"
   },
   "outputs": [],
   "source": [
    "generator = make_generator_model()\n",
    "\n",
    "noise = tf.random.normal([1, NOISE_SIZE])\n",
    "generated_image = generator(noise, training=False)\n",
    "\n",
    "generated_image2 = generated_image[0].numpy() * 127.5 + 127.5\n",
    "\n",
    "plt.imshow(generated_image2.astype('uint8'))"
   ]
  },
  {
   "cell_type": "markdown",
   "metadata": {
    "colab_type": "text",
    "id": "D0IKnaCtg6WE"
   },
   "source": [
    "### The Discriminator\n",
    "\n",
    "The discriminator is a CNN-based image classifier."
   ]
  },
  {
   "cell_type": "code",
   "execution_count": null,
   "metadata": {
    "colab": {},
    "colab_type": "code",
    "id": "dw2tPLmk2pEP"
   },
   "outputs": [],
   "source": [
    "def make_discriminator_model():\n",
    "    model = tf.keras.Sequential()\n",
    "    model.add(layers.Conv2D(32, (5, 5), strides=(2, 2), padding='same',\n",
    "                                     input_shape=[256, 256, 3],\n",
    "                                    kernel_initializer=KERNEL_INITIALIZER))\n",
    "    model.add(layers.BatchNormalization(epsilon=EPSILON))\n",
    "    model.add(layers.LeakyReLU(alpha=LEAK_RELU_APLPHA))\n",
    "    model.add(layers.Dropout(0.3))\n",
    "\n",
    "    model.add(layers.Conv2D(64, (5, 5), strides=(2, 2), padding='same',\n",
    "                                    kernel_initializer=KERNEL_INITIALIZER))\n",
    "    model.add(layers.BatchNormalization(epsilon=EPSILON))\n",
    "    model.add(layers.LeakyReLU(alpha=LEAK_RELU_APLPHA))\n",
    "    model.add(layers.Dropout(0.3))\n",
    "\n",
    "    model.add(layers.Conv2D(128, (5, 5), strides=(2, 2), padding='same',\n",
    "                                    kernel_initializer=KERNEL_INITIALIZER))\n",
    "    model.add(layers.BatchNormalization(epsilon=EPSILON))\n",
    "    model.add(layers.LeakyReLU(alpha=LEAK_RELU_APLPHA))\n",
    "    model.add(layers.Dropout(0.3))\n",
    "\n",
    "    model.add(layers.Flatten())\n",
    "    model.add(layers.Dense(1))\n",
    "\n",
    "    return model"
   ]
  },
  {
   "cell_type": "markdown",
   "metadata": {
    "colab_type": "text",
    "id": "QhPneagzCaQv"
   },
   "source": [
    "Use the (as yet untrained) discriminator to classify the generated images as real or fake. The model will be trained to output positive values for real images, and negative values for fake images."
   ]
  },
  {
   "cell_type": "code",
   "execution_count": null,
   "metadata": {
    "colab": {
     "base_uri": "https://localhost:8080/",
     "height": 35
    },
    "colab_type": "code",
    "id": "gDkA05NE6QMs",
    "outputId": "3508b024-216c-42fa-c59e-694863b8b0f5"
   },
   "outputs": [],
   "source": [
    "discriminator = make_discriminator_model()\n",
    "decision = discriminator(generated_image)\n",
    "print (decision)"
   ]
  },
  {
   "cell_type": "markdown",
   "metadata": {
    "colab_type": "text",
    "id": "0FMYgY_mPfTi"
   },
   "source": [
    "## Define the loss and optimizers\n",
    "\n",
    "Define loss functions and optimizers for both models.\n"
   ]
  },
  {
   "cell_type": "code",
   "execution_count": null,
   "metadata": {
    "colab": {},
    "colab_type": "code",
    "id": "psQfmXxYKU3X"
   },
   "outputs": [],
   "source": [
    "# This method returns a helper function to compute cross entropy loss\n",
    "cross_entropy = tf.keras.losses.BinaryCrossentropy(from_logits=True)"
   ]
  },
  {
   "cell_type": "markdown",
   "metadata": {
    "colab_type": "text",
    "id": "PKY_iPSPNWoj"
   },
   "source": [
    "### Discriminator loss\n",
    "\n",
    "This method quantifies how well the discriminator is able to distinguish real images from fakes. It compares the discriminator's predictions on real images to an array of 1s, and the discriminator's predictions on fake (generated) images to an array of 0s."
   ]
  },
  {
   "cell_type": "code",
   "execution_count": null,
   "metadata": {
    "colab": {},
    "colab_type": "code",
    "id": "wkMNfBWlT-PV"
   },
   "outputs": [],
   "source": [
    "def discriminator_loss(real_output, fake_output):\n",
    "    real_loss = cross_entropy(tf.ones_like(real_output), real_output)\n",
    "    fake_loss = cross_entropy(tf.zeros_like(fake_output), fake_output)\n",
    "    total_loss = real_loss + fake_loss\n",
    "    return total_loss"
   ]
  },
  {
   "cell_type": "markdown",
   "metadata": {
    "colab_type": "text",
    "id": "Jd-3GCUEiKtv"
   },
   "source": [
    "### Generator loss\n",
    "The generator's loss quantifies how well it was able to trick the discriminator. Intuitively, if the generator is performing well, the discriminator will classify the fake images as real (or 1). Here, we will compare the discriminators decisions on the generated images to an array of 1s."
   ]
  },
  {
   "cell_type": "code",
   "execution_count": null,
   "metadata": {
    "colab": {},
    "colab_type": "code",
    "id": "90BIcCKcDMxz"
   },
   "outputs": [],
   "source": [
    "def generator_loss(fake_output):\n",
    "    return cross_entropy(tf.ones_like(fake_output), fake_output)"
   ]
  },
  {
   "cell_type": "markdown",
   "metadata": {
    "colab_type": "text",
    "id": "MgIc7i0th_Iu"
   },
   "source": [
    "The discriminator and the generator optimizers are different since we will train two networks separately."
   ]
  },
  {
   "cell_type": "code",
   "execution_count": null,
   "metadata": {
    "colab": {},
    "colab_type": "code",
    "id": "iWCn_PVdEJZ7"
   },
   "outputs": [],
   "source": [
    "generator_optimizer = tf.keras.optimizers.Adam(learning_rate=LR_D, beta_1=BETA1)\n",
    "discriminator_optimizer = tf.keras.optimizers.Adam(learning_rate=LR_G, beta_1=BETA1)"
   ]
  },
  {
   "cell_type": "markdown",
   "metadata": {
    "colab_type": "text",
    "id": "mWtinsGDPJlV"
   },
   "source": [
    "### Save checkpoints\n",
    "This notebook also demonstrates how to save and restore models, which can be helpful in case a long running training task is interrupted."
   ]
  },
  {
   "cell_type": "code",
   "execution_count": null,
   "metadata": {
    "colab": {},
    "colab_type": "code",
    "id": "CA1w-7s2POEy"
   },
   "outputs": [],
   "source": [
    "checkpoint_dir = './training_checkpoints'\n",
    "checkpoint_prefix = os.path.join(checkpoint_dir, \"ckpt\")\n",
    "checkpoint = tf.train.Checkpoint(generator_optimizer=generator_optimizer,\n",
    "                                 discriminator_optimizer=discriminator_optimizer,\n",
    "                                 generator=generator,\n",
    "                                 discriminator=discriminator)"
   ]
  },
  {
   "cell_type": "markdown",
   "metadata": {
    "colab_type": "text",
    "id": "Rw1fkAczTQYh"
   },
   "source": [
    "## Define the training loop\n"
   ]
  },
  {
   "cell_type": "code",
   "execution_count": null,
   "metadata": {
    "colab": {},
    "colab_type": "code",
    "id": "NS2GWywBbAWo"
   },
   "outputs": [],
   "source": [
    "\n",
    "noise_dim = NOISE_SIZE\n",
    "num_examples_to_generate = 16\n",
    "\n",
    "# We will reuse this seed overtime (so it's easier)\n",
    "# to visualize progress in the animated GIF)\n",
    "seed = tf.random.normal([num_examples_to_generate, noise_dim])"
   ]
  },
  {
   "cell_type": "code",
   "execution_count": null,
   "metadata": {
    "colab": {},
    "colab_type": "code",
    "id": "tzrfHPuOOaUl"
   },
   "outputs": [],
   "source": [
    "def summarize_epoch(epoch, d_losses, g_losses, save_image=True):\n",
    "  \n",
    "    fig, ax = plt.subplots()\n",
    "    plt.plot(d_losses, label='Discriminator', alpha=0.6)\n",
    "    plt.plot(g_losses, label='Generator', alpha=0.6)\n",
    "    plt.title(\"Losses\")\n",
    "    plt.legend()\n",
    "    if save_image:\n",
    "        plt.savefig(\"losses_\" + str(epoch) + \".png\")\n",
    "    plt.show()\n",
    "    plt.close()\n",
    "    "
   ]
  },
  {
   "cell_type": "markdown",
   "metadata": {
    "colab_type": "text",
    "id": "jylSonrqSWfi"
   },
   "source": [
    "The training loop begins with generator receiving a random seed as input. That seed is used to produce an image. The discriminator is then used to classify real images (drawn from the training set) and fakes images (produced by the generator). The loss is calculated for each of these models, and the gradients are used to update the generator and discriminator."
   ]
  },
  {
   "cell_type": "code",
   "execution_count": null,
   "metadata": {
    "colab": {},
    "colab_type": "code",
    "id": "3t5ibNo05jCB"
   },
   "outputs": [],
   "source": [
    "# Notice the use of `tf.function`\n",
    "# This annotation causes the function to be \"compiled\".\n",
    "@tf.function\n",
    "def train_step(images):\n",
    "    noise = tf.random.normal([BATCH_SIZE, noise_dim])\n",
    "\n",
    "    with tf.GradientTape() as gen_tape, tf.GradientTape() as disc_tape:\n",
    "      generated_images = generator(noise, training=True)\n",
    "\n",
    "      real_output = discriminator(images, training=True)\n",
    "      fake_output = discriminator(generated_images, training=True)\n",
    "\n",
    "      gen_loss = generator_loss(fake_output)\n",
    "      disc_loss = discriminator_loss(real_output, fake_output)\n",
    "\n",
    "    gradients_of_generator = gen_tape.gradient(gen_loss, generator.trainable_variables)\n",
    "    gradients_of_discriminator = disc_tape.gradient(disc_loss, discriminator.trainable_variables)\n",
    "\n",
    "    generator_optimizer.apply_gradients(zip(gradients_of_generator, generator.trainable_variables))\n",
    "    discriminator_optimizer.apply_gradients(zip(gradients_of_discriminator, discriminator.trainable_variables))\n",
    "\n",
    "    return gen_loss, disc_loss"
   ]
  },
  {
   "cell_type": "code",
   "execution_count": null,
   "metadata": {
    "colab": {},
    "colab_type": "code",
    "id": "2M7LmLtGEMQJ"
   },
   "outputs": [],
   "source": [
    "def train(dataset, epochs):\n",
    "  print('Training started at: ', datetime.now(tz_NY))\n",
    "  save_image = False\n",
    "  d_losses = []\n",
    "  g_losses = []\n",
    "  for epoch in range(epochs):\n",
    "    start = time.time()\n",
    "\n",
    "    for image_batch in dataset:\n",
    "      d_loss, g_loss = train_step(image_batch)\n",
    "      d_losses.append(d_loss)\n",
    "      g_losses.append(g_loss)\n",
    "\n",
    "    # Produce images for the GIF as we go\n",
    "    display.clear_output(wait=True)\n",
    "    \n",
    "\n",
    "    # Save the model every 15 epochs\n",
    "    if (epoch + 1) % 500 == 0:\n",
    "      checkpoint.save(file_prefix = checkpoint_prefix)\n",
    "      save_image = True\n",
    "\n",
    "    generate_and_save_images(generator,\n",
    "                             epoch + 1,\n",
    "                             seed,\n",
    "                             save_image)\n",
    "    summarize_epoch(epoch, d_losses, g_losses, save_image)\n",
    "    save_image = False\n",
    "    print ('Time for epoch {} is {} sec'.format(epoch + 1, time.time()-start))\n",
    "\n",
    "  # Generate after the final epoch\n",
    "  display.clear_output(wait=True)\n",
    "  generate_and_save_images(generator,\n",
    "                           epochs,\n",
    "                           seed)\n",
    "  summarize_epoch(epoch, d_losses, g_losses)\n",
    "\n",
    "  "
   ]
  },
  {
   "cell_type": "markdown",
   "metadata": {
    "colab_type": "text",
    "id": "2aFF7Hk3XdeW"
   },
   "source": [
    "**Generate and save images**\n"
   ]
  },
  {
   "cell_type": "code",
   "execution_count": null,
   "metadata": {
    "colab": {},
    "colab_type": "code",
    "id": "RmdVsmvhPxyy"
   },
   "outputs": [],
   "source": [
    "def generate_and_save_images(model, epoch, test_input, save_image=True):\n",
    "  # Notice `training` is set to False.\n",
    "  # This is so all layers run in inference mode (batchnorm).\n",
    "  predictions = model(test_input, training=False)\n",
    "\n",
    "  fig = plt.figure(figsize=(4,4))\n",
    "\n",
    "  for i in range(predictions.shape[0]):\n",
    "      plt.subplot(4, 4, i+1)\n",
    "      generated_image2 = predictions[i].numpy() * 127.5 + 127.5\n",
    "      plt.imshow(generated_image2.astype('uint8'))\n",
    "\n",
    "      plt.axis('off')\n",
    "\n",
    "  if save_image:\n",
    "    plt.savefig('image_at_epoch_{:04d}.png'.format(epoch))\n",
    "  plt.show()"
   ]
  },
  {
   "cell_type": "code",
   "execution_count": null,
   "metadata": {
    "colab": {
     "base_uri": "https://localhost:8080/",
     "height": 235
    },
    "colab_type": "code",
    "id": "HZakhArpEFuH",
    "outputId": "c2a5288c-e361-42a1-ad7d-1de4b2f57d14"
   },
   "outputs": [],
   "source": [
    "sdf\n",
    "sadf\n",
    "s\n",
    "fs\n",
    "dfs"
   ]
  },
  {
   "cell_type": "markdown",
   "metadata": {
    "colab_type": "text",
    "id": "dZrd4CdjR-Fp"
   },
   "source": [
    "## Train the model\n",
    "Call the `train()` method defined above to train the generator and discriminator simultaneously. Note, training GANs can be tricky. It's important that the generator and discriminator do not overpower each other (e.g., that they train at a similar rate).\n",
    "\n",
    "At the beginning of the training, the generated images look like random noise. As training progresses, the generated digits will look increasingly real. After about 50 epochs, they resemble MNIST digits. This may take about one minute / epoch with the default settings on Colab."
   ]
  },
  {
   "cell_type": "code",
   "execution_count": null,
   "metadata": {
    "colab": {},
    "colab_type": "code",
    "id": "Ly3UN0SLLY2l"
   },
   "outputs": [],
   "source": [
    "train(train_dataset, EPOCHS)"
   ]
  },
  {
   "cell_type": "code",
   "execution_count": null,
   "metadata": {
    "colab": {},
    "colab_type": "code",
    "id": "yhJAoyv9aq4-"
   },
   "outputs": [],
   "source": [
    "checkpoint.save(file_prefix = checkpoint_prefix)"
   ]
  },
  {
   "cell_type": "code",
   "execution_count": null,
   "metadata": {
    "colab": {
     "base_uri": "https://localhost:8080/",
     "height": 662
    },
    "colab_type": "code",
    "id": "rUuUUJf09uEb",
    "outputId": "d023d5d4-a0b9-45a3-cb05-39a784619b8d"
   },
   "outputs": [],
   "source": [
    "#1000\n",
    "train(train_dataset, 1000)\n",
    "\n",
    "noise = tf.random.normal([5, NOISE_SIZE])\n",
    "generated_image = generator(noise, training=False)\n",
    "show_samples2(generated_image)\n"
   ]
  },
  {
   "cell_type": "code",
   "execution_count": null,
   "metadata": {
    "colab": {
     "base_uri": "https://localhost:8080/",
     "height": 167
    },
    "colab_type": "code",
    "id": "pJo1bXQ803WW",
    "outputId": "6e99a694-fa8e-4e9e-8005-32cb08c8fc2c"
   },
   "outputs": [],
   "source": [
    "noise = tf.random.normal([5, NOISE_SIZE])\n",
    "generated_image = generator(noise, training=False)\n",
    "show_samples2(generated_image)"
   ]
  },
  {
   "cell_type": "code",
   "execution_count": null,
   "metadata": {
    "colab": {
     "base_uri": "https://localhost:8080/",
     "height": 269
    },
    "colab_type": "code",
    "id": "2F_nmw0FyeAW",
    "outputId": "a97f2d74-03c8-4bcd-b67f-92c8592e6217"
   },
   "outputs": [],
   "source": [
    "noise = tf.random.normal([1, NOISE_SIZE])\n",
    "generated_image = generator(noise, training=False)\n",
    "generated_image2 = generated_image[0].numpy() * 127.5 + 127.5\n",
    "\n",
    "plt.imshow(generated_image2.astype(np.uint8))\n",
    "plt.show()\n",
    "plt.close()"
   ]
  },
  {
   "cell_type": "code",
   "execution_count": null,
   "metadata": {
    "colab": {},
    "colab_type": "code",
    "id": "sGbSuTizj8fI"
   },
   "outputs": [],
   "source": [
    "CHKP_INDEX = '1'\n",
    "def download_checkpoint():\n",
    "    try:\n",
    "        from google.colab import files\n",
    "    except ImportError:\n",
    "        pass\n",
    "    else:\n",
    "        files.download('training_checkpoints/ckpt-'+CHKP_INDEX+'.data-00000-of-00002')\n",
    "        #files.download('training_checkpoints/ckpt-'+CHKP_INDEX+'.data-00001-of-00002')\n",
    "        files.download('training_checkpoints/ckpt-'+CHKP_INDEX+'.index')\n",
    "        files.download('training_checkpoints/checkpoint')\n",
    "\n",
    "if CHKP_INDEX != '':\n",
    "    download_checkpoint()"
   ]
  },
  {
   "cell_type": "code",
   "execution_count": null,
   "metadata": {
    "colab": {},
    "colab_type": "code",
    "id": "fuN64rZNuSj0"
   },
   "outputs": [],
   "source": [
    "MOUNT_DRIVE = True\n",
    "if MOUNT_DRIVE:\n",
    "    from google.colab import drive\n",
    "    drive.mount('/content/drive')"
   ]
  },
  {
   "cell_type": "code",
   "execution_count": null,
   "metadata": {
    "colab": {},
    "colab_type": "code",
    "id": "4s9GHdsWJOD9"
   },
   "outputs": [],
   "source": [
    "!mkdir /content/drive/My\\ Drive/UoT/Assignment4/model5/5000_epochs\n",
    "!cp -r training_checkpoints/* /content/drive/My\\ Drive/UoT/Assignment4/model5/5000_epochs"
   ]
  },
  {
   "cell_type": "code",
   "execution_count": null,
   "metadata": {
    "colab": {
     "base_uri": "https://localhost:8080/",
     "height": 372
    },
    "colab_type": "code",
    "id": "axxF4BjHunpn",
    "outputId": "08236ef5-8e9c-4e76-942e-ca4e4406c3ba"
   },
   "outputs": [],
   "source": [
    "#!rm -rf training_checkpoints/\n",
    "#!mkdir /content/drive/My\\ Drive/UoT/Assignment4/model5/1000_epochs\n",
    "#!cp -r training_checkpoints/* /content/drive/My\\ Drive/UoT/Assignment4/model5/1000_epochs\n",
    "#!cp -r /content/drive/My\\ Drive/UoT/Assignment4/model5/2000_epochs/* training_checkpoints/\n",
    "!ls -la /content/drive/My\\ Drive/UoT/Assignment4/model5/5000_epochs\n",
    "!ls -la training_checkpoints"
   ]
  },
  {
   "cell_type": "markdown",
   "metadata": {
    "colab_type": "text",
    "id": "rfM4YcPVPkNO"
   },
   "source": [
    "\n",
    "\n",
    "```\n",
    "# This is formatted as code\n",
    "```\n",
    "\n",
    "To restore a checkpoint upload a the ckpt files into training_checkpoints folder."
   ]
  },
  {
   "cell_type": "code",
   "execution_count": null,
   "metadata": {
    "colab": {},
    "colab_type": "code",
    "id": "uSmgRRxlA4mK"
   },
   "outputs": [],
   "source": [
    "#!zip training_checkpoints/* checkpoint.zip\n",
    "!ls -la training_checkpoints/"
   ]
  },
  {
   "cell_type": "code",
   "execution_count": null,
   "metadata": {
    "colab": {},
    "colab_type": "code",
    "id": "lq5eG3Vl9JP2"
   },
   "outputs": [],
   "source": [
    "#!unzip training_checkpoints/ckpt-3.zip\n",
    "#!ls -ls training_checkpoints/\n",
    "#!pip install tensorflow==2.1\n",
    "import tensorflow as tf\n",
    "tf.__version__"
   ]
  },
  {
   "cell_type": "code",
   "execution_count": null,
   "metadata": {
    "colab": {},
    "colab_type": "code",
    "id": "XhXsd0srPo8c"
   },
   "outputs": [],
   "source": [
    "# upload the files (checkpoint, ckpt-xxx.index, ckpt-xxx.data-*) into training_checkpoints folder\n",
    "RESTORE_CHECKPOINT = True\n",
    "if RESTORE_CHECKPOINT:\n",
    "    checkpoint.restore(tf.train.latest_checkpoint(checkpoint_dir))"
   ]
  },
  {
   "cell_type": "markdown",
   "metadata": {
    "colab_type": "text",
    "id": "P4M_vIbUi7c0"
   },
   "source": [
    "## Create a GIF\n"
   ]
  },
  {
   "cell_type": "code",
   "execution_count": null,
   "metadata": {
    "colab": {},
    "colab_type": "code",
    "id": "WfO5wCdclHGL"
   },
   "outputs": [],
   "source": [
    "# Display a single image using the epoch number\n",
    "def display_image(epoch_no):\n",
    "  return PIL.Image.open('image_at_epoch_{:04d}.png'.format(epoch_no))"
   ]
  },
  {
   "cell_type": "code",
   "execution_count": null,
   "metadata": {
    "colab": {},
    "colab_type": "code",
    "id": "5x3q9_Oe5q0A"
   },
   "outputs": [],
   "source": [
    "display_image(EPOCHS)"
   ]
  },
  {
   "cell_type": "markdown",
   "metadata": {
    "colab_type": "text",
    "id": "NywiH3nL8guF"
   },
   "source": [
    "Use `imageio` to create an animated gif using the images saved during training."
   ]
  },
  {
   "cell_type": "code",
   "execution_count": null,
   "metadata": {
    "colab": {},
    "colab_type": "code",
    "id": "IGKQgENQ8lEI"
   },
   "outputs": [],
   "source": [
    "anim_file = 'dcgan.gif'\n",
    "\n",
    "with imageio.get_writer(anim_file, mode='I') as writer:\n",
    "  filenames = glob('image*.png')\n",
    "  filenames = sorted(filenames)\n",
    "  last = -1\n",
    "  for i,filename in enumerate(filenames):\n",
    "    frame = 2*(i**0.5)\n",
    "    if round(frame) > round(last):\n",
    "      last = frame\n",
    "    else:\n",
    "      continue\n",
    "    image = imageio.imread(filename)\n",
    "    writer.append_data(image)\n",
    "  image = imageio.imread(filename)\n",
    "  writer.append_data(image)\n",
    "\n",
    "import IPython\n",
    "if IPython.version_info > (6,2,0,''):\n",
    "  display.Image(filename=anim_file)"
   ]
  },
  {
   "cell_type": "markdown",
   "metadata": {
    "colab_type": "text",
    "id": "cGhC3-fMWSwl"
   },
   "source": [
    "If you're working in Colab you can download the animation with the code below:"
   ]
  },
  {
   "cell_type": "code",
   "execution_count": null,
   "metadata": {
    "colab": {},
    "colab_type": "code",
    "id": "uV0yiKpzNP1b"
   },
   "outputs": [],
   "source": [
    "DOWNLOAD = False\n",
    "if DOWNLOAD:\n",
    "    try:\n",
    "        from google.colab import files\n",
    "    except ImportError:\n",
    "        pass\n",
    "    else:\n",
    "        files.download(anim_file)"
   ]
  },
  {
   "cell_type": "code",
   "execution_count": null,
   "metadata": {
    "colab": {},
    "colab_type": "code",
    "id": "K2FANCpij4zE"
   },
   "outputs": [],
   "source": []
  },
  {
   "cell_type": "markdown",
   "metadata": {
    "colab_type": "text",
    "id": "k6qC-SbjK0yW"
   },
   "source": [
    "# More information about GAN\n"
   ]
  },
  {
   "cell_type": "markdown",
   "metadata": {
    "colab_type": "text",
    "id": "xjjkT9KAK6H7"
   },
   "source": [
    "To learn more about GANs we recommend the [NIPS 2016 Tutorial: Generative Adversarial Networks](https://arxiv.org/abs/1701.00160).\n"
   ]
  },
  {
   "cell_type": "markdown",
   "metadata": {
    "colab_type": "text",
    "id": "wunG8sGLTbs8"
   },
   "source": [
    "#Clean up"
   ]
  },
  {
   "cell_type": "code",
   "execution_count": null,
   "metadata": {
    "colab": {},
    "colab_type": "code",
    "id": "60Y9XB5fcXrT"
   },
   "outputs": [],
   "source": [
    "if True:\n",
    "    !rm losses_*\n",
    "    !rm image_*\n",
    "    #!rm only_flowers/au*\n",
    "    !rm -r only_flowers/\n",
    "    !rm only_flowers.zip*\n",
    "    !rm -r __MACOSX/\n",
    "    !rm dcgan.gif\n",
    "    !rm -r training_checkpoints/\n",
    "    #!ls -la training_checkpoints/*"
   ]
  }
 ],
 "metadata": {
  "accelerator": "GPU",
  "colab": {
   "collapsed_sections": [],
   "machine_shape": "hm",
   "name": "dcgan_flowers_4_Paper.ipynb",
   "provenance": [],
   "toc_visible": true
  },
  "kernelspec": {
   "display_name": "Python 3",
   "language": "python",
   "name": "python3"
  },
  "language_info": {
   "codemirror_mode": {
    "name": "ipython",
    "version": 3
   },
   "file_extension": ".py",
   "mimetype": "text/x-python",
   "name": "python",
   "nbconvert_exporter": "python",
   "pygments_lexer": "ipython3",
   "version": "3.7.7"
  }
 },
 "nbformat": 4,
 "nbformat_minor": 1
}
